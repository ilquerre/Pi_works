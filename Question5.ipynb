{
 "cells": [
  {
   "cell_type": "code",
   "execution_count": 2,
   "id": "0d2aad2b",
   "metadata": {},
   "outputs": [],
   "source": [
    "import pandas as pd\n",
    "import numpy as np\n",
    "import matplotlib.pyplot as plt\n"
   ]
  },
  {
   "cell_type": "code",
   "execution_count": 3,
   "id": "92d88fab",
   "metadata": {},
   "outputs": [],
   "source": [
    "data=pd.read_csv(\"country_vaccination_stats.csv\")"
   ]
  },
  {
   "cell_type": "code",
   "execution_count": 4,
   "id": "94247dee",
   "metadata": {},
   "outputs": [],
   "source": [
    "y=[]\n",
    "grouped=data.groupby(\"country\").sum()\n",
    "i=0\n",
    "#Filling data according to country column and make subsets a list to concat after.\n",
    "for i in range(len(grouped.index)):\n",
    "    x=data[data[\"country\"]==grouped.index[i]].fillna(data[data[\"country\"]==grouped.index[i]][\"daily_vaccinations\"].min())\n",
    "    y.append(x)\n",
    "   \n",
    "    \n"
   ]
  },
  {
   "cell_type": "code",
   "execution_count": 5,
   "id": "c888c228",
   "metadata": {},
   "outputs": [],
   "source": [
    "#Concatanate the list to a single df again\n",
    "data_filled = pd.concat(y)"
   ]
  },
  {
   "cell_type": "code",
   "execution_count": 17,
   "id": "f55b0149",
   "metadata": {},
   "outputs": [],
   "source": [
    "#Fill the missing values with 0 if there is any left. In this case there was just 1 value\n",
    "data_filled=data_filled.fillna(0)"
   ]
  },
  {
   "cell_type": "code",
   "execution_count": 18,
   "id": "605b3019",
   "metadata": {},
   "outputs": [],
   "source": [
    "highest=data_filled.groupby(\"country\")[\"daily_vaccinations\"].median().sort_values(ascending=False)"
   ]
  },
  {
   "cell_type": "code",
   "execution_count": 19,
   "id": "7b10dc37",
   "metadata": {},
   "outputs": [
    {
     "name": "stdout",
     "output_type": "stream",
     "text": [
      "country\n",
      "United States    378253.0\n",
      "China            276786.0\n",
      "India            173922.0\n",
      "Name: daily_vaccinations, dtype: float64\n"
     ]
    }
   ],
   "source": [
    "print(highest[0:3])"
   ]
  },
  {
   "cell_type": "code",
   "execution_count": null,
   "id": "ae81bcee",
   "metadata": {},
   "outputs": [],
   "source": []
  }
 ],
 "metadata": {
  "kernelspec": {
   "display_name": "Python 3",
   "language": "python",
   "name": "python3"
  },
  "language_info": {
   "codemirror_mode": {
    "name": "ipython",
    "version": 3
   },
   "file_extension": ".py",
   "mimetype": "text/x-python",
   "name": "python",
   "nbconvert_exporter": "python",
   "pygments_lexer": "ipython3",
   "version": "3.7.10"
  }
 },
 "nbformat": 4,
 "nbformat_minor": 5
}
