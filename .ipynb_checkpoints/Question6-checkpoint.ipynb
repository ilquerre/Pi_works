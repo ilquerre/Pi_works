{
 "cells": [
  {
   "cell_type": "code",
   "execution_count": 25,
   "id": "bacfa266",
   "metadata": {},
   "outputs": [],
   "source": [
    "import pandas as pd\n",
    "import numpy as np\n",
    "import matplotlib.pyplot as plt\n"
   ]
  },
  {
   "cell_type": "code",
   "execution_count": 26,
   "id": "bead1048",
   "metadata": {},
   "outputs": [],
   "source": [
    "data=pd.read_csv(\"country_vaccination_stats.csv\")"
   ]
  },
  {
   "cell_type": "code",
   "execution_count": 27,
   "id": "7bc32b4e",
   "metadata": {},
   "outputs": [],
   "source": [
    "y=[]\n",
    "grouped=data.groupby(\"country\").sum()\n",
    "i=0\n",
    "#Filling data according to country column and make subsets a list to concat after.\n",
    "for i in range(len(grouped.index)):\n",
    "    x=data[data[\"country\"]==grouped.index[i]].fillna(data[data[\"country\"]==grouped.index[i]][\"daily_vaccinations\"].min())\n",
    "    y.append(x)\n",
    "   \n",
    "    \n"
   ]
  },
  {
   "cell_type": "code",
   "execution_count": 28,
   "id": "53b1ee13",
   "metadata": {},
   "outputs": [],
   "source": [
    "#Concatanate the list to a single df again\n",
    "data_filled = pd.concat(y)"
   ]
  },
  {
   "cell_type": "code",
   "execution_count": 29,
   "id": "4a68fe98",
   "metadata": {},
   "outputs": [],
   "source": [
    "#Fill the missing values with 0 if there is any left. In this case there was just 1 value\n",
    "data_filled=data_filled.fillna(0)"
   ]
  },
  {
   "cell_type": "code",
   "execution_count": 35,
   "id": "ab9af3c9",
   "metadata": {},
   "outputs": [
    {
     "data": {
      "text/plain": [
       "8         8173.0\n",
       "29        3368.0\n",
       "62        1594.0\n",
       "86         736.0\n",
       "121        472.0\n",
       "164      14887.0\n",
       "197        272.0\n",
       "239     455357.0\n",
       "267        763.0\n",
       "287       1334.0\n",
       "307        534.0\n",
       "334       2439.0\n",
       "364       8525.0\n",
       "403      98984.0\n",
       "431        589.0\n",
       "457        839.0\n",
       "479       8500.0\n",
       "509      42015.0\n",
       "552       2680.0\n",
       "581       3959.0\n",
       "607         63.0\n",
       "658       1624.0\n",
       "700     114634.0\n",
       "730      45417.0\n",
       "760        338.0\n",
       "792        592.0\n",
       "819         62.0\n",
       "847        304.0\n",
       "879       4027.0\n",
       "899       4000.0\n",
       "940       3954.0\n",
       "969       1772.0\n",
       "997       1280.0\n",
       "1031     17723.0\n",
       "1060      4416.0\n",
       "1088      7555.0\n",
       "1130     39532.0\n",
       "1138     14153.0\n",
       "1174      4858.0\n",
       "1240      3309.0\n",
       "1259      2110.0\n",
       "1280     45248.0\n",
       "1310      5165.0\n",
       "1336      3000.0\n",
       "1366     30698.0\n",
       "1403    111155.0\n",
       "1439    358887.0\n",
       "1483      3359.0\n",
       "Name: daily_vaccinations, dtype: float64"
      ]
     },
     "execution_count": 35,
     "metadata": {},
     "output_type": "execute_result"
    }
   ],
   "source": [
    "data_filled.query(\"date=='1/6/2021'\")[\"daily_vaccinations\"]"
   ]
  },
  {
   "cell_type": "code",
   "execution_count": 38,
   "id": "340be3d9",
   "metadata": {},
   "outputs": [
    {
     "ename": "TypeError",
     "evalue": "to_sql() missing 1 required positional argument: 'con'",
     "output_type": "error",
     "traceback": [
      "\u001b[1;31m---------------------------------------------------------------------------\u001b[0m",
      "\u001b[1;31mTypeError\u001b[0m                                 Traceback (most recent call last)",
      "\u001b[1;32m<ipython-input-38-f9cde29e7492>\u001b[0m in \u001b[0;36m<module>\u001b[1;34m\u001b[0m\n\u001b[0;32m      1\u001b[0m \u001b[0mdata_filled\u001b[0m\u001b[1;33m\u001b[0m\u001b[1;33m\u001b[0m\u001b[0m\n\u001b[0;32m      2\u001b[0m \u001b[1;33m\u001b[0m\u001b[0m\n\u001b[1;32m----> 3\u001b[1;33m \u001b[0mdata\u001b[0m\u001b[1;33m.\u001b[0m\u001b[0mto_sql\u001b[0m\u001b[1;33m(\u001b[0m\u001b[1;34m\"table.sql\"\u001b[0m\u001b[1;33m,\u001b[0m\u001b[1;33m)\u001b[0m\u001b[1;33m\u001b[0m\u001b[1;33m\u001b[0m\u001b[0m\n\u001b[0m",
      "\u001b[1;31mTypeError\u001b[0m: to_sql() missing 1 required positional argument: 'con'"
     ]
    }
   ],
   "source": [
    "data_filled\n",
    "\n",
    "data.to_sql(\"data.sql\",)"
   ]
  },
  {
   "cell_type": "code",
   "execution_count": null,
   "id": "d03434b7",
   "metadata": {},
   "outputs": [],
   "source": []
  }
 ],
 "metadata": {
  "kernelspec": {
   "display_name": "Python 3",
   "language": "python",
   "name": "python3"
  },
  "language_info": {
   "codemirror_mode": {
    "name": "ipython",
    "version": 3
   },
   "file_extension": ".py",
   "mimetype": "text/x-python",
   "name": "python",
   "nbconvert_exporter": "python",
   "pygments_lexer": "ipython3",
   "version": "3.7.10"
  }
 },
 "nbformat": 4,
 "nbformat_minor": 5
}
