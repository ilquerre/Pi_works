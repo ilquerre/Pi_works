{
 "cells": [
  {
   "cell_type": "code",
   "execution_count": 1,
   "id": "cee497f2",
   "metadata": {},
   "outputs": [],
   "source": [
    "import pandas as pd\n",
    "import numpy as np\n",
    "import matplotlib.pyplot as plt\n"
   ]
  },
  {
   "cell_type": "code",
   "execution_count": 21,
   "id": "d03fb960",
   "metadata": {},
   "outputs": [],
   "source": [
    "data=pd.read_csv(\"country_vaccination_stats.csv\")"
   ]
  },
  {
   "cell_type": "code",
   "execution_count": 34,
   "id": "d5ef358e",
   "metadata": {},
   "outputs": [],
   "source": [
    "y=[]\n",
    "grouped=data.groupby(\"country\").sum()\n",
    "i=0\n",
    "#Filling data according to country column and make subsets a list to concat after.\n",
    "for i in range(len(grouped.index)):\n",
    "    x=data[data[\"country\"]==grouped.index[i]].fillna(data[data[\"country\"]==grouped.index[i]][\"daily_vaccinations\"].min())\n",
    "    y.append(x)\n",
    "   \n",
    "    \n"
   ]
  },
  {
   "cell_type": "code",
   "execution_count": 38,
   "id": "470c1aa6",
   "metadata": {},
   "outputs": [],
   "source": [
    "#Concatanate the list to a single df again\n",
    "data_filled = pd.concat(y)"
   ]
  },
  {
   "cell_type": "code",
   "execution_count": 50,
   "id": "617e7009",
   "metadata": {},
   "outputs": [],
   "source": [
    "#Fill the missing values with 0 if there is any left. In this case there was just 1 value\n",
    "data_filled=data_filled.fillna(0)"
   ]
  },
  {
   "cell_type": "code",
   "execution_count": null,
   "id": "0c80f38b",
   "metadata": {},
   "outputs": [],
   "source": []
  }
 ],
 "metadata": {
  "kernelspec": {
   "display_name": "Python 3",
   "language": "python",
   "name": "python3"
  },
  "language_info": {
   "codemirror_mode": {
    "name": "ipython",
    "version": 3
   },
   "file_extension": ".py",
   "mimetype": "text/x-python",
   "name": "python",
   "nbconvert_exporter": "python",
   "pygments_lexer": "ipython3",
   "version": "3.7.10"
  }
 },
 "nbformat": 4,
 "nbformat_minor": 5
}
