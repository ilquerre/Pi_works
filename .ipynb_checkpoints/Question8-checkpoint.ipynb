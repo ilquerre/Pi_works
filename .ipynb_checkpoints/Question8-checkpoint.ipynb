{
 "cells": [
  {
   "cell_type": "code",
   "execution_count": 46,
   "id": "8e32eb83",
   "metadata": {},
   "outputs": [],
   "source": [
    "import pandas as pd\n",
    "dictionary={\"Device Type\":[\"AXO145\",\"TRU151\",\"ZOD231\",\"YRT326\",\"LWR245\"],\n",
    "      \"Stats_Access_Link\":[\"<url>https://xcd32112.smart_meter.com</url>\",\"<url>http://tXh67.dia_meter.com</url>\",\n",
    "                           \"<url>http://yT5495.smart_meter.com</url>\",\"<url>https://ret323_TRu.crown.com</url>\",\n",
    "                           \"<url>https://luwr3243.celcius.com</url>\"]}"
   ]
  },
  {
   "cell_type": "code",
   "execution_count": 47,
   "id": "6a9f986e",
   "metadata": {},
   "outputs": [],
   "source": [
    "data=pd.DataFrame.from_dict(dictionary)"
   ]
  },
  {
   "cell_type": "code",
   "execution_count": 55,
   "id": "bdeb0791",
   "metadata": {},
   "outputs": [
    {
     "name": "stderr",
     "output_type": "stream",
     "text": [
      "C:\\Users\\Ilker\\anaconda3\\envs\\geo\\lib\\site-packages\\ipykernel_launcher.py:1: FutureWarning: The default value of regex will change from True to False in a future version.\n",
      "  \"\"\"Entry point for launching an IPython kernel.\n"
     ]
    }
   ],
   "source": [
    "data[\"Stats_Access_Link\"]=data[\"Stats_Access_Link\"].str.replace('<url>|</url>|https://|http://',\"\")\n",
    "data[\"Stats_Access_Link\"]=data[\"Stats_Access_Link\"].str.lower()"
   ]
  },
  {
   "cell_type": "code",
   "execution_count": 58,
   "id": "b3b6a729",
   "metadata": {},
   "outputs": [
    {
     "data": {
      "text/html": [
       "<div>\n",
       "<style scoped>\n",
       "    .dataframe tbody tr th:only-of-type {\n",
       "        vertical-align: middle;\n",
       "    }\n",
       "\n",
       "    .dataframe tbody tr th {\n",
       "        vertical-align: top;\n",
       "    }\n",
       "\n",
       "    .dataframe thead th {\n",
       "        text-align: right;\n",
       "    }\n",
       "</style>\n",
       "<table border=\"1\" class=\"dataframe\">\n",
       "  <thead>\n",
       "    <tr style=\"text-align: right;\">\n",
       "      <th></th>\n",
       "      <th>Device Type</th>\n",
       "      <th>Stats_Access_Link</th>\n",
       "    </tr>\n",
       "  </thead>\n",
       "  <tbody>\n",
       "    <tr>\n",
       "      <th>0</th>\n",
       "      <td>AXO145</td>\n",
       "      <td>xcd32112.smart_meter.com</td>\n",
       "    </tr>\n",
       "    <tr>\n",
       "      <th>1</th>\n",
       "      <td>TRU151</td>\n",
       "      <td>txh67.dia_meter.com</td>\n",
       "    </tr>\n",
       "    <tr>\n",
       "      <th>2</th>\n",
       "      <td>ZOD231</td>\n",
       "      <td>yt5495.smart_meter.com</td>\n",
       "    </tr>\n",
       "    <tr>\n",
       "      <th>3</th>\n",
       "      <td>YRT326</td>\n",
       "      <td>ret323_tru.crown.com</td>\n",
       "    </tr>\n",
       "    <tr>\n",
       "      <th>4</th>\n",
       "      <td>LWR245</td>\n",
       "      <td>luwr3243.celcius.com</td>\n",
       "    </tr>\n",
       "  </tbody>\n",
       "</table>\n",
       "</div>"
      ],
      "text/plain": [
       "  Device Type         Stats_Access_Link\n",
       "0      AXO145  xcd32112.smart_meter.com\n",
       "1      TRU151       txh67.dia_meter.com\n",
       "2      ZOD231    yt5495.smart_meter.com\n",
       "3      YRT326      ret323_tru.crown.com\n",
       "4      LWR245      luwr3243.celcius.com"
      ]
     },
     "execution_count": 58,
     "metadata": {},
     "output_type": "execute_result"
    }
   ],
   "source": [
    "data"
   ]
  },
  {
   "cell_type": "code",
   "execution_count": null,
   "id": "ecbd1ff3",
   "metadata": {},
   "outputs": [],
   "source": []
  }
 ],
 "metadata": {
  "kernelspec": {
   "display_name": "Python 3",
   "language": "python",
   "name": "python3"
  },
  "language_info": {
   "codemirror_mode": {
    "name": "ipython",
    "version": 3
   },
   "file_extension": ".py",
   "mimetype": "text/x-python",
   "name": "python",
   "nbconvert_exporter": "python",
   "pygments_lexer": "ipython3",
   "version": "3.7.10"
  }
 },
 "nbformat": 4,
 "nbformat_minor": 5
}
