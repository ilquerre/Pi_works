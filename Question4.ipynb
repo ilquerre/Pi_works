{
 "cells": [
  {
   "cell_type": "code",
   "execution_count": 1,
   "id": "0ad2d307",
   "metadata": {},
   "outputs": [],
   "source": [
    "import pandas as pd\n",
    "import numpy as np\n",
    "import matplotlib.pyplot as plt\n"
   ]
  },
  {
   "cell_type": "code",
   "execution_count": 21,
   "id": "0118af38",
   "metadata": {},
   "outputs": [],
   "source": [
    "data=pd.read_csv(\"country_vaccination_stats.csv\")"
   ]
  },
  {
   "cell_type": "code",
   "execution_count": 34,
   "id": "9beebaa1",
   "metadata": {},
   "outputs": [],
   "source": [
    "y=[]\n",
    "grouped=data.groupby(\"country\").sum()\n",
    "i=0\n",
    "#Filling data according to country column and make subsets a list to concat after.\n",
    "for i in range(len(grouped.index)):\n",
    "    x=data[data[\"country\"]==grouped.index[i]].fillna(data[data[\"country\"]==grouped.index[i]][\"daily_vaccinations\"].min())\n",
    "    y.append(x)\n",
    "   \n",
    "    \n"
   ]
  },
  {
   "cell_type": "code",
   "execution_count": 38,
   "id": "0d6f9749",
   "metadata": {},
   "outputs": [],
   "source": [
    "#Concatanate the list to a single df again\n",
    "data_filled = pd.concat(y)"
   ]
  },
  {
   "cell_type": "code",
   "execution_count": 50,
   "id": "14b79f20",
   "metadata": {},
   "outputs": [],
   "source": [
    "#Fill the missing values with 0 if there is any left. In this case there was just 1 value\n",
    "data_filled=data_filled.fillna(0)"
   ]
  },
  {
   "cell_type": "code",
   "execution_count": 58,
   "id": "71da4853",
   "metadata": {},
   "outputs": [
    {
     "data": {
      "text/html": [
       "<div>\n",
       "<style scoped>\n",
       "    .dataframe tbody tr th:only-of-type {\n",
       "        vertical-align: middle;\n",
       "    }\n",
       "\n",
       "    .dataframe tbody tr th {\n",
       "        vertical-align: top;\n",
       "    }\n",
       "\n",
       "    .dataframe thead th {\n",
       "        text-align: right;\n",
       "    }\n",
       "</style>\n",
       "<table border=\"1\" class=\"dataframe\">\n",
       "  <thead>\n",
       "    <tr style=\"text-align: right;\">\n",
       "      <th></th>\n",
       "      <th>country</th>\n",
       "      <th>date</th>\n",
       "      <th>daily_vaccinations</th>\n",
       "      <th>vaccines</th>\n",
       "    </tr>\n",
       "  </thead>\n",
       "  <tbody>\n",
       "    <tr>\n",
       "      <th>1352</th>\n",
       "      <td>Turkey</td>\n",
       "      <td>1/13/2021</td>\n",
       "      <td>67192.0</td>\n",
       "      <td>Sinovac</td>\n",
       "    </tr>\n",
       "    <tr>\n",
       "      <th>1353</th>\n",
       "      <td>Turkey</td>\n",
       "      <td>1/14/2021</td>\n",
       "      <td>279452.0</td>\n",
       "      <td>Sinovac</td>\n",
       "    </tr>\n",
       "    <tr>\n",
       "      <th>1354</th>\n",
       "      <td>Turkey</td>\n",
       "      <td>1/15/2021</td>\n",
       "      <td>308326.0</td>\n",
       "      <td>Sinovac</td>\n",
       "    </tr>\n",
       "    <tr>\n",
       "      <th>1355</th>\n",
       "      <td>Turkey</td>\n",
       "      <td>1/16/2021</td>\n",
       "      <td>225634.0</td>\n",
       "      <td>Sinovac</td>\n",
       "    </tr>\n",
       "    <tr>\n",
       "      <th>1356</th>\n",
       "      <td>Turkey</td>\n",
       "      <td>1/17/2021</td>\n",
       "      <td>176613.0</td>\n",
       "      <td>Sinovac</td>\n",
       "    </tr>\n",
       "    <tr>\n",
       "      <th>1357</th>\n",
       "      <td>Turkey</td>\n",
       "      <td>1/18/2021</td>\n",
       "      <td>166482.0</td>\n",
       "      <td>Sinovac</td>\n",
       "    </tr>\n",
       "    <tr>\n",
       "      <th>1358</th>\n",
       "      <td>Turkey</td>\n",
       "      <td>1/19/2021</td>\n",
       "      <td>158439.0</td>\n",
       "      <td>Sinovac</td>\n",
       "    </tr>\n",
       "    <tr>\n",
       "      <th>1359</th>\n",
       "      <td>Turkey</td>\n",
       "      <td>1/20/2021</td>\n",
       "      <td>150356.0</td>\n",
       "      <td>Sinovac</td>\n",
       "    </tr>\n",
       "    <tr>\n",
       "      <th>1360</th>\n",
       "      <td>Turkey</td>\n",
       "      <td>1/21/2021</td>\n",
       "      <td>120115.0</td>\n",
       "      <td>Sinovac</td>\n",
       "    </tr>\n",
       "    <tr>\n",
       "      <th>1361</th>\n",
       "      <td>Turkey</td>\n",
       "      <td>1/22/2021</td>\n",
       "      <td>83651.0</td>\n",
       "      <td>Sinovac</td>\n",
       "    </tr>\n",
       "    <tr>\n",
       "      <th>1362</th>\n",
       "      <td>Turkey</td>\n",
       "      <td>1/23/2021</td>\n",
       "      <td>78569.0</td>\n",
       "      <td>Sinovac</td>\n",
       "    </tr>\n",
       "    <tr>\n",
       "      <th>1363</th>\n",
       "      <td>Turkey</td>\n",
       "      <td>1/24/2021</td>\n",
       "      <td>76886.0</td>\n",
       "      <td>Sinovac</td>\n",
       "    </tr>\n",
       "    <tr>\n",
       "      <th>1364</th>\n",
       "      <td>Turkey</td>\n",
       "      <td>1/25/2021</td>\n",
       "      <td>67192.0</td>\n",
       "      <td>Sinovac</td>\n",
       "    </tr>\n",
       "  </tbody>\n",
       "</table>\n",
       "</div>"
      ],
      "text/plain": [
       "     country       date  daily_vaccinations vaccines\n",
       "1352  Turkey  1/13/2021             67192.0  Sinovac\n",
       "1353  Turkey  1/14/2021            279452.0  Sinovac\n",
       "1354  Turkey  1/15/2021            308326.0  Sinovac\n",
       "1355  Turkey  1/16/2021            225634.0  Sinovac\n",
       "1356  Turkey  1/17/2021            176613.0  Sinovac\n",
       "1357  Turkey  1/18/2021            166482.0  Sinovac\n",
       "1358  Turkey  1/19/2021            158439.0  Sinovac\n",
       "1359  Turkey  1/20/2021            150356.0  Sinovac\n",
       "1360  Turkey  1/21/2021            120115.0  Sinovac\n",
       "1361  Turkey  1/22/2021             83651.0  Sinovac\n",
       "1362  Turkey  1/23/2021             78569.0  Sinovac\n",
       "1363  Turkey  1/24/2021             76886.0  Sinovac\n",
       "1364  Turkey  1/25/2021             67192.0  Sinovac"
      ]
     },
     "execution_count": 58,
     "metadata": {},
     "output_type": "execute_result"
    }
   ],
   "source": []
  },
  {
   "cell_type": "code",
   "execution_count": 60,
   "id": "fe125591",
   "metadata": {},
   "outputs": [
    {
     "data": {
      "text/plain": [
       "1352         NaN\n",
       "1353    279452.0\n",
       "1354    308326.0\n",
       "1355    225634.0\n",
       "1356    176613.0\n",
       "1357    166482.0\n",
       "1358    158439.0\n",
       "1359    150356.0\n",
       "1360    120115.0\n",
       "1361     83651.0\n",
       "1362     78569.0\n",
       "1363     76886.0\n",
       "1364     67192.0\n",
       "Name: daily_vaccinations, dtype: float64"
      ]
     },
     "execution_count": 60,
     "metadata": {},
     "output_type": "execute_result"
    }
   ],
   "source": [
    "data.query(\"country=='Turkey'\")[\"daily_vaccinations\"]"
   ]
  },
  {
   "cell_type": "code",
   "execution_count": null,
   "id": "734bcbd6",
   "metadata": {},
   "outputs": [],
   "source": []
  }
 ],
 "metadata": {
  "kernelspec": {
   "display_name": "Python 3",
   "language": "python",
   "name": "python3"
  },
  "language_info": {
   "codemirror_mode": {
    "name": "ipython",
    "version": 3
   },
   "file_extension": ".py",
   "mimetype": "text/x-python",
   "name": "python",
   "nbconvert_exporter": "python",
   "pygments_lexer": "ipython3",
   "version": "3.7.10"
  }
 },
 "nbformat": 4,
 "nbformat_minor": 5
}
